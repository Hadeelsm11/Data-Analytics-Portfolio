{
 "cells": [
  {
   "cell_type": "code",
   "execution_count": 16,
   "id": "0f3e7d47",
   "metadata": {},
   "outputs": [],
   "source": [
    "import pandas as pd\n",
    "import numpy as np\n",
    "import matplotlib.pyplot as plt\n",
    "import seaborn as sns\n",
    "\n",
    "from sklearn.model_selection import train_test_split\n",
    "from sklearn.metrics import accuracy_score, confusion_matrix\n",
    "from sklearn.linear_model import LogisticRegression\n",
    "from sklearn.tree import DecisionTreeClassifier\n",
    "from sklearn.preprocessing import MinMaxScaler\n",
    "from sklearn.model_selection import GridSearchCV"
   ]
  },
  {
   "cell_type": "code",
   "execution_count": 3,
   "id": "3aa6fa7d",
   "metadata": {},
   "outputs": [],
   "source": [
    "df = pd.read_csv('clean_dataset.csv')\n"
   ]
  },
  {
   "cell_type": "code",
   "execution_count": 4,
   "id": "5f695e52",
   "metadata": {},
   "outputs": [],
   "source": [
    "df.columns = df.columns.str.lower()\n"
   ]
  },
  {
   "cell_type": "code",
   "execution_count": 5,
   "id": "7e3e6f23",
   "metadata": {},
   "outputs": [
    {
     "data": {
      "text/plain": [
       "0      31\n",
       "1      59\n",
       "2      24\n",
       "3      28\n",
       "4      20\n",
       "       ..\n",
       "685    21\n",
       "686    23\n",
       "687    25\n",
       "688    18\n",
       "689    35\n",
       "Name: age, Length: 690, dtype: int64"
      ]
     },
     "execution_count": 5,
     "metadata": {},
     "output_type": "execute_result"
    }
   ],
   "source": [
    "df['age'] = (df['age']).round()\n",
    "df['age'] = df['age'].astype(int)\n",
    "df['age']"
   ]
  },
  {
   "cell_type": "code",
   "execution_count": 6,
   "id": "8409deff",
   "metadata": {},
   "outputs": [],
   "source": [
    "##Encode values for industry\n",
    "industrymap = {'Industrials': 0, \n",
    "               'Materials':1, \n",
    "               'CommunicationServices':2, \n",
    "               'Transport':3,\n",
    "               'InformationTechnology':4, \n",
    "               'Financials':5, \n",
    "               'Energy':6, \n",
    "               'Real Estate':7,\n",
    "               'Utilities':8, \n",
    "               'ConsumerDiscretionary':9, \n",
    "               'Education':10,\n",
    "               'ConsumerStaples':11, \n",
    "               'Healthcare':12, \n",
    "               'Research':13}\n",
    "\n",
    "df['industry'] = df['industry'].map(industrymap)"
   ]
  },
  {
   "cell_type": "code",
   "execution_count": 7,
   "id": "108ba894",
   "metadata": {},
   "outputs": [],
   "source": [
    "##Encode values for ethnicity\n",
    "ethnicitymap = {'White':0, \n",
    "                'Black':1, \n",
    "                'Asian':2, \n",
    "                'Latino':3, \n",
    "                'Other':4}\n",
    "\n",
    "df['ethnicity'] = df['ethnicity'].map(ethnicitymap)\n"
   ]
  },
  {
   "cell_type": "code",
   "execution_count": 8,
   "id": "0f233c25",
   "metadata": {},
   "outputs": [],
   "source": [
    "##Encode values for citizenship\n",
    "citizenmap = {'ByBirth':0, \n",
    "                'ByOtherMeans':1, \n",
    "                'Temporary':2}\n",
    "\n",
    "df['citizen'] = df['citizen'].map(citizenmap)"
   ]
  },
  {
   "cell_type": "code",
   "execution_count": 9,
   "id": "95b40159",
   "metadata": {},
   "outputs": [],
   "source": [
    "df[\"income\"] = df['income'].replace(0,df['income'].median())"
   ]
  },
  {
   "cell_type": "code",
   "execution_count": 10,
   "id": "1b03809a",
   "metadata": {},
   "outputs": [],
   "source": [
    "##train_test_split\n",
    "X = df.drop(\"approved\",axis =1).values\n",
    "y = df[\"approved\"].values\n",
    "\n",
    "X_train, X_test, y_train, y_test = train_test_split(X,y, test_size= 0.80, random_state = 42)"
   ]
  },
  {
   "cell_type": "code",
   "execution_count": 11,
   "id": "25520fb5",
   "metadata": {},
   "outputs": [],
   "source": [
    "###Rescale X_train and X_Test \n",
    "scaler = MinMaxScaler(feature_range= (0,1)) \n",
    "\n",
    "rescaledX_train = scaler.fit_transform(X_train)\n",
    "rescaledX_test = scaler.fit_transform(X_test)"
   ]
  },
  {
   "cell_type": "code",
   "execution_count": 13,
   "id": "ce3a3472",
   "metadata": {},
   "outputs": [
    {
     "name": "stdout",
     "output_type": "stream",
     "text": [
      "1 Train score:  0.8405797101449275 Test score:  0.8586956521739131\n",
      "2 Train score:  0.855072463768116 Test score:  0.8586956521739131\n",
      "3 Train score:  0.8768115942028986 Test score:  0.855072463768116\n",
      "4 Train score:  0.927536231884058 Test score:  0.7590579710144928\n",
      "5 Train score:  0.9565217391304348 Test score:  0.7427536231884058\n",
      "6 Train score:  0.9927536231884058 Test score:  0.7336956521739131\n",
      "7 Train score:  1.0 Test score:  0.7264492753623188\n",
      "8 Train score:  1.0 Test score:  0.7264492753623188\n",
      "9 Train score:  1.0 Test score:  0.7264492753623188\n"
     ]
    },
    {
     "data": {
      "text/plain": [
       "<matplotlib.legend.Legend at 0x7fb454f30eb0>"
      ]
     },
     "execution_count": 13,
     "metadata": {},
     "output_type": "execute_result"
    },
    {
     "data": {
      "image/png": "[encoded data removed]",
      "text/plain": [
       "<Figure size 640x480 with 1 Axes>"
      ]
     },
     "metadata": {},
     "output_type": "display_data"
    }
   ],
   "source": [
    "train_acc=[]\n",
    "test_acc=[]\n",
    "list_score=[]\n",
    "p=[]\n",
    "\n",
    "\n",
    "##Decision Tree Classifier\n",
    "for i in range (1, 10):\n",
    "    classifer = DecisionTreeClassifier(max_depth= i, random_state= 0 )\n",
    "    classifer.fit(rescaledX_train, y_train)\n",
    "\n",
    "    train_pred = classifer.predict(rescaledX_train)\n",
    "    test_pred = classifer.predict(rescaledX_test)\n",
    "\n",
    "    test_acc = accuracy_score(y_test, test_pred)\n",
    "    train_acc = accuracy_score(y_train, train_pred)\n",
    "    print(i, \"Train score: \", train_acc, 'Test score: ', test_acc)\n",
    "\n",
    "    list_score.append([i, accuracy_score(train_pred, y_train), accuracy_score(test_pred, y_test)])\n",
    "\n",
    "df2 = pd.DataFrame(list_score, columns=['Depth', 'Train Accuracy', 'Test Accuracy'])\n",
    "plt.plot(df2['Depth'], df2['Test Accuracy'], label='Test Accuracy')\n",
    "plt.plot(df2['Depth'], df2['Train Accuracy'], label='Train Accuracy')\n",
    "plt.xlabel('Depth')\n",
    "plt.ylabel('Accuracy')\n",
    "plt.legend()\n",
    "#plt.show()\n",
    "##Use the value of 2 for the model, as it scores 85%\n",
    "##tree should be allowed to split twice"
   ]
  },
  {
   "cell_type": "code",
   "execution_count": 14,
   "id": "5dcfa3c5",
   "metadata": {},
   "outputs": [
    {
     "data": {
      "text/html": [
       "<style>#sk-container-id-1 {color: black;background-color: white;}#sk-container-id-1 pre{padding: 0;}#sk-container-id-1 div.sk-toggleable {background-color: white;}#sk-container-id-1 label.sk-toggleable__label {cursor: pointer;display: block;width: 100%;margin-bottom: 0;padding: 0.3em;box-sizing: border-box;text-align: center;}#sk-container-id-1 label.sk-toggleable__label-arrow:before {content: \"▸\";float: left;margin-right: 0.25em;color: #696969;}#sk-container-id-1 label.sk-toggleable__label-arrow:hover:before {color: black;}#sk-container-id-1 div.sk-estimator:hover label.sk-toggleable__label-arrow:before {color: black;}#sk-container-id-1 div.sk-toggleable__content {max-height: 0;max-width: 0;overflow: hidden;text-align: left;background-color: #f0f8ff;}#sk-container-id-1 div.sk-toggleable__content pre {margin: 0.2em;color: black;border-radius: 0.25em;background-color: #f0f8ff;}#sk-container-id-1 input.sk-toggleable__control:checked~div.sk-toggleable__content {max-height: 200px;max-width: 100%;overflow: auto;}#sk-container-id-1 input.sk-toggleable__control:checked~label.sk-toggleable__label-arrow:before {content: \"▾\";}#sk-container-id-1 div.sk-estimator input.sk-toggleable__control:checked~label.sk-toggleable__label {background-color: #d4ebff;}#sk-container-id-1 div.sk-label input.sk-toggleable__control:checked~label.sk-toggleable__label {background-color: #d4ebff;}#sk-container-id-1 input.sk-hidden--visually {border: 0;clip: rect(1px 1px 1px 1px);clip: rect(1px, 1px, 1px, 1px);height: 1px;margin: -1px;overflow: hidden;padding: 0;position: absolute;width: 1px;}#sk-container-id-1 div.sk-estimator {font-family: monospace;background-color: #f0f8ff;border: 1px dotted black;border-radius: 0.25em;box-sizing: border-box;margin-bottom: 0.5em;}#sk-container-id-1 div.sk-estimator:hover {background-color: #d4ebff;}#sk-container-id-1 div.sk-parallel-item::after {content: \"\";width: 100%;border-bottom: 1px solid gray;flex-grow: 1;}#sk-container-id-1 div.sk-label:hover label.sk-toggleable__label {background-color: #d4ebff;}#sk-container-id-1 div.sk-serial::before {content: \"\";position: absolute;border-left: 1px solid gray;box-sizing: border-box;top: 0;bottom: 0;left: 50%;z-index: 0;}#sk-container-id-1 div.sk-serial {display: flex;flex-direction: column;align-items: center;background-color: white;padding-right: 0.2em;padding-left: 0.2em;position: relative;}#sk-container-id-1 div.sk-item {position: relative;z-index: 1;}#sk-container-id-1 div.sk-parallel {display: flex;align-items: stretch;justify-content: center;background-color: white;position: relative;}#sk-container-id-1 div.sk-item::before, #sk-container-id-1 div.sk-parallel-item::before {content: \"\";position: absolute;border-left: 1px solid gray;box-sizing: border-box;top: 0;bottom: 0;left: 50%;z-index: -1;}#sk-container-id-1 div.sk-parallel-item {display: flex;flex-direction: column;z-index: 1;position: relative;background-color: white;}#sk-container-id-1 div.sk-parallel-item:first-child::after {align-self: flex-end;width: 50%;}#sk-container-id-1 div.sk-parallel-item:last-child::after {align-self: flex-start;width: 50%;}#sk-container-id-1 div.sk-parallel-item:only-child::after {width: 0;}#sk-container-id-1 div.sk-dashed-wrapped {border: 1px dashed gray;margin: 0 0.4em 0.5em 0.4em;box-sizing: border-box;padding-bottom: 0.4em;background-color: white;}#sk-container-id-1 div.sk-label label {font-family: monospace;font-weight: bold;display: inline-block;line-height: 1.2em;}#sk-container-id-1 div.sk-label-container {text-align: center;}#sk-container-id-1 div.sk-container {/* jupyter's `normalize.less` sets `[hidden] { display: none; }` but bootstrap.min.css set `[hidden] { display: none !important; }` so we also need the `!important` here to be able to override the default hidden behavior on the sphinx rendered scikit-learn.org. See: https://github.com/scikit-learn/scikit-learn/issues/21755 */display: inline-block !important;position: relative;}#sk-container-id-1 div.sk-text-repr-fallback {display: none;}</style><div id=\"sk-container-id-1\" class=\"sk-top-container\"><div class=\"sk-text-repr-fallback\"><pre>LogisticRegression()</pre><b>In a Jupyter environment, please rerun this cell to show the HTML representation or trust the notebook. <br />On GitHub, the HTML representation is unable to render, please try loading this page with nbviewer.org.</b></div><div class=\"sk-container\" hidden><div class=\"sk-item\"><div class=\"sk-estimator sk-toggleable\"><input class=\"sk-toggleable__control sk-hidden--visually\" id=\"sk-estimator-id-1\" type=\"checkbox\" checked><label for=\"sk-estimator-id-1\" class=\"sk-toggleable__label sk-toggleable__label-arrow\">LogisticRegression</label><div class=\"sk-toggleable__content\"><pre>LogisticRegression()</pre></div></div></div></div></div>"
      ],
      "text/plain": [
       "LogisticRegression()"
      ]
     },
     "execution_count": 14,
     "metadata": {},
     "output_type": "execute_result"
    }
   ],
   "source": [
    "##Log regression\n",
    "from sklearn.preprocessing import MinMaxScaler\n",
    "scaler = MinMaxScaler(feature_range=(0,1))\n",
    "rescaledXTrain = scaler.fit_transform(X_train)\n",
    "rescaledXTest = scaler.fit_transform(X_test)\n",
    "\n",
    "from sklearn.linear_model import LogisticRegression\n",
    "logreg = LogisticRegression()\n",
    "\n",
    "logreg.fit(rescaledXTrain, y_train)"
   ]
  },
  {
   "cell_type": "code",
   "execution_count": 15,
   "id": "aac56928",
   "metadata": {},
   "outputs": [
    {
     "name": "stdout",
     "output_type": "stream",
     "text": [
      "Test: Accuracy =  0.8623188405797102\n",
      "Train: Accuracy =  0.855072463768116\n",
      "[[267  48]\n",
      " [ 28 209]]\n"
     ]
    }
   ],
   "source": [
    "from sklearn.metrics import confusion_matrix\n",
    "y_pred = logreg.predict(rescaledXTest)\n",
    "y_pred1 = logreg.predict(rescaledXTrain)\n",
    "\n",
    "# Get the accuracy score of logreg model and print it\n",
    "print(\"Test: Accuracy = \", logreg.score(rescaledXTest,y_test))\n",
    "print(\"Train: Accuracy = \", logreg.score(rescaledXTrain,y_train))\n",
    "\n",
    "# Print the confusion matrix of the logreg model\n",
    "print(confusion_matrix(y_test,y_pred))"
   ]
  },
  {
   "cell_type": "code",
   "execution_count": 18,
   "id": "500817b6",
   "metadata": {},
   "outputs": [],
   "source": [
    "##Lets do a grid search to make our preformance better\n",
    "##Define the grid of values for tol and max_iter \n",
    "tol = [0.01, 0.001, 0.0001]\n",
    "max_iter = [100,150,200]\n",
    "\n",
    "##Create a dictionary where tol and max_iter are keys \n",
    "##and the lists of their values are corresponding values \n",
    "param_grid= dict(tol = tol, max_iter = max_iter)"
   ]
  },
  {
   "cell_type": "code",
   "execution_count": 19,
   "id": "20a7bf19",
   "metadata": {},
   "outputs": [
    {
     "name": "stdout",
     "output_type": "stream",
     "text": [
      "Best 0.853623 using {'max_iter': 100, 'tol': 0.01}\n"
     ]
    }
   ],
   "source": [
    "##Conduct GridSearchCV with the required parameters \n",
    "grid_model = GridSearchCV(estimator = logreg, param_grid = param_grid, cv = 5)\n",
    "\n",
    "##Use scaler to rescale X \n",
    "rescaledX = scaler.fit_transform(X)\n",
    "\n",
    "##Fit data to grid_model \n",
    "grid_model_result = grid_model.fit(rescaledX, y)\n",
    "\n",
    "##Summarize results \n",
    "best_score, best_params = grid_model_result.best_score_, grid_model_result.best_params_\n",
    "print(\"Best %f using %s\" % (grid_model_result.best_score_, grid_model_result.best_params_))"
   ]
  }
 ],
 "metadata": {
  "kernelspec": {
   "display_name": "Python 3 (ipykernel)",
   "language": "python",
   "name": "python3"
  },
  "language_info": {
   "codemirror_mode": {
    "name": "ipython",
    "version": 3
   },
   "file_extension": ".py",
   "mimetype": "text/x-python",
   "name": "python",
   "nbconvert_exporter": "python",
   "pygments_lexer": "ipython3",
   "version": "3.10.10"
  }
 },
 "nbformat": 4,
 "nbformat_minor": 5
}
